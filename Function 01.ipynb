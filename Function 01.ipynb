{
 "cells": [
  {
   "cell_type": "markdown",
   "id": "4650a8c2-21df-4874-a5d1-6882fb5cd8cd",
   "metadata": {},
   "source": [
    "                              Function Assignment 01"
   ]
  },
  {
   "cell_type": "markdown",
   "id": "88a3dced-c217-4c3c-8866-21261d309948",
   "metadata": {},
   "source": [
    "Q1.\n",
    "'def' is a keyword which is used in defining a function. There are multple ways of a functon which returns the list of odd numbers in the range of 1 to 25. let's make a function 'odd' and run a loop in the list."
   ]
  },
  {
   "cell_type": "code",
   "execution_count": 20,
   "id": "d5c4eba7-5407-4f1a-b82b-bddef5326a8b",
   "metadata": {},
   "outputs": [],
   "source": [
    "l=list(range(1,26))\n"
   ]
  },
  {
   "cell_type": "code",
   "execution_count": 21,
   "id": "d3cb7465-23b3-4b23-b35e-c8896a82cbd9",
   "metadata": {},
   "outputs": [],
   "source": [
    "def odd(l):\n",
    "    l2=[]\n",
    "    \n",
    "    for i in l:\n",
    "        \n",
    "        if i%2!=0:\n",
    "            \n",
    "            l2.append (i)\n",
    "    return l2"
   ]
  },
  {
   "cell_type": "code",
   "execution_count": 22,
   "id": "7d8f437a-fad9-45ce-b4e8-c64021f539c5",
   "metadata": {},
   "outputs": [
    {
     "data": {
      "text/plain": [
       "[1, 3, 5, 7, 9, 11, 13, 15, 17, 19, 21, 23, 25]"
      ]
     },
     "execution_count": 22,
     "metadata": {},
     "output_type": "execute_result"
    }
   ],
   "source": [
    "odd(l)"
   ]
  },
  {
   "cell_type": "markdown",
   "id": "0a19703b-106f-4ef2-aa50-d150c111a8be",
   "metadata": {},
   "source": [
    "we can also get the same result from another way."
   ]
  },
  {
   "cell_type": "markdown",
   "id": "29f3f2c2-cbbf-4487-a827-8c639d798f2a",
   "metadata": {},
   "source": []
  },
  {
   "cell_type": "markdown",
   "id": "259b98e2-58f7-463b-8479-a5e48ddb8e3d",
   "metadata": {},
   "source": [
    "Q2.\n",
    "\n",
    "*args and **kwargs respectivaly used in non-keyword and keyword type of argument. *args used to exicute the same value in the output, while **kwargs gives dictonary and always required keys for storing the arguments.Both of the examples are given below;\n"
   ]
  },
  {
   "cell_type": "code",
   "execution_count": 25,
   "id": "4f8aacdb-864e-4788-9234-ddab039e1a9c",
   "metadata": {},
   "outputs": [],
   "source": [
    "def test(*arg):\n",
    "    print (arg)"
   ]
  },
  {
   "cell_type": "code",
   "execution_count": 26,
   "id": "a94daa3c-8a1b-44bf-bb12-12ca2902038c",
   "metadata": {},
   "outputs": [
    {
     "name": "stdout",
     "output_type": "stream",
     "text": [
      "('it is a string',)\n"
     ]
    }
   ],
   "source": [
    "#function name is 'test' and it is printing a string value or whatever we given to it.\n",
    "test('it is a string')   "
   ]
  },
  {
   "cell_type": "code",
   "execution_count": 27,
   "id": "be83e134-0480-4c70-8d90-5275699f83d9",
   "metadata": {},
   "outputs": [],
   "source": [
    "#the second function is 'test1' and it always required the value with its defined key. \n",
    "def test1(**kwarg):\n",
    "    print (kwarg)"
   ]
  },
  {
   "cell_type": "code",
   "execution_count": 32,
   "id": "5f0c4626-f673-4a9e-aef0-746c4f98acc2",
   "metadata": {},
   "outputs": [
    {
     "name": "stdout",
     "output_type": "stream",
     "text": [
      "{}\n"
     ]
    }
   ],
   "source": [
    "test1() \n"
   ]
  },
  {
   "cell_type": "code",
   "execution_count": null,
   "id": "eb188188-8073-4907-a5f6-b10096fd9fdf",
   "metadata": {},
   "outputs": [],
   "source": []
  },
  {
   "cell_type": "markdown",
   "id": "0c940b4f-3a6e-4f8e-8ca9-ac345e13a567",
   "metadata": {},
   "source": [
    "Q3.\n",
    "an iterator is a object which enble to one for gothrough to the next values of the data. Some of the iterables can never be a iterator like int but some other data types like string, we can make the iterable by using a funcion iter(). we take a example to print the five element of the given list."
   ]
  },
  {
   "cell_type": "code",
   "execution_count": 28,
   "id": "890d1fbb-1ceb-4a00-b647-2083be8049bb",
   "metadata": {},
   "outputs": [],
   "source": [
    "l2=[2,4,6,8,10,12,14,16,18,20]\n"
   ]
  },
  {
   "cell_type": "code",
   "execution_count": 48,
   "id": "4d379811-28f8-416d-8165-1c1896a3ef5f",
   "metadata": {},
   "outputs": [
    {
     "name": "stdout",
     "output_type": "stream",
     "text": [
      "[2, 4, 6, 8, 10]\n"
     ]
    }
   ],
   "source": [
    "def first_five():\n",
    "    n=5\n",
    "l3=l2[:n]\n",
    "print (l3)"
   ]
  },
  {
   "cell_type": "code",
   "execution_count": null,
   "id": "36ae64cb-1367-47fd-be05-f756be4bce8b",
   "metadata": {},
   "outputs": [],
   "source": []
  },
  {
   "cell_type": "markdown",
   "id": "27330b89-2c52-4e20-97e7-2983a898ba8b",
   "metadata": {},
   "source": [
    "Q4: \n",
    "    Generator is a function which returns a itreator by using yield. It is reusable and very useful in sight of data rendering. Lets take a example of the generator function."
   ]
  },
  {
   "cell_type": "code",
   "execution_count": 53,
   "id": "aafd3b95-e15a-44cc-8be7-6bbc7a7c3067",
   "metadata": {},
   "outputs": [],
   "source": [
    "def generator():\n",
    "    yield 2\n",
    "    yield 4"
   ]
  },
  {
   "cell_type": "code",
   "execution_count": 55,
   "id": "18977b69-3e1c-43de-995f-fa308b065840",
   "metadata": {},
   "outputs": [
    {
     "name": "stdout",
     "output_type": "stream",
     "text": [
      "2\n",
      "4\n"
     ]
    }
   ],
   "source": [
    "for i in generator():\n",
    "    print(i)"
   ]
  },
  {
   "cell_type": "code",
   "execution_count": null,
   "id": "76530df0-2f15-4211-996b-eb244b93936b",
   "metadata": {},
   "outputs": [],
   "source": []
  },
  {
   "cell_type": "markdown",
   "id": "09271d2c-d500-43a2-b885-f294fda2edb0",
   "metadata": {},
   "source": [
    "Q5:\n",
    "    A genrator function for prime numbers less than 1000.by Using the next () method to print the first 20 prime numbers."
   ]
  },
  {
   "cell_type": "code",
   "execution_count": null,
   "id": "6616c78c-1b2c-412d-bfc0-3a77387fe808",
   "metadata": {},
   "outputs": [],
   "source": [
    "def prime_genrator():\n",
    "    n=2\n",
    "    primes=[]\n",
    "    while True:\n",
    "        is_prime= True\n",
    "        for prime in primes:\n",
    "            if n%prime==0:\n",
    "                is_prime=False\n",
    "                break\n",
    "                if is_prime:\n",
    "                    primes.append(n)\n",
    "                    yield n\n",
    "                    n+=1"
   ]
  },
  {
   "cell_type": "code",
   "execution_count": null,
   "id": "6042c45a-89c4-454b-81bb-6881962dfc29",
   "metadata": {},
   "outputs": [],
   "source": [
    "prime_gen=prime_genrator()"
   ]
  },
  {
   "cell_type": "code",
   "execution_count": 5,
   "id": "4de4982b-da9e-43d9-a8b3-240ee2bd1719",
   "metadata": {},
   "outputs": [
    {
     "ename": "KeyboardInterrupt",
     "evalue": "",
     "output_type": "error",
     "traceback": [
      "\u001b[0;31m---------------------------------------------------------------------------\u001b[0m",
      "\u001b[0;31mKeyboardInterrupt\u001b[0m                         Traceback (most recent call last)",
      "Cell \u001b[0;32mIn[5], line 2\u001b[0m\n\u001b[1;32m      1\u001b[0m \u001b[38;5;28;01mfor\u001b[39;00m i \u001b[38;5;129;01min\u001b[39;00m \u001b[38;5;28mrange\u001b[39m(\u001b[38;5;241m20\u001b[39m):\n\u001b[0;32m----> 2\u001b[0m     \u001b[38;5;28mprint\u001b[39m(\u001b[38;5;28;43mnext\u001b[39;49m\u001b[43m(\u001b[49m\u001b[43mprime_gen\u001b[49m\u001b[43m)\u001b[49m)\n",
      "Cell \u001b[0;32mIn[3], line 4\u001b[0m, in \u001b[0;36mprime_genrator\u001b[0;34m()\u001b[0m\n\u001b[1;32m      2\u001b[0m n\u001b[38;5;241m=\u001b[39m\u001b[38;5;241m2\u001b[39m\n\u001b[1;32m      3\u001b[0m primes\u001b[38;5;241m=\u001b[39m[]\n\u001b[0;32m----> 4\u001b[0m \u001b[38;5;28;01mwhile\u001b[39;00m \u001b[38;5;28;01mTrue\u001b[39;00m:\n\u001b[1;32m      5\u001b[0m     is_prime\u001b[38;5;241m=\u001b[39m \u001b[38;5;28;01mTrue\u001b[39;00m\n\u001b[1;32m      6\u001b[0m     \u001b[38;5;28;01mfor\u001b[39;00m prime \u001b[38;5;129;01min\u001b[39;00m primes:\n",
      "\u001b[0;31mKeyboardInterrupt\u001b[0m: "
     ]
    }
   ],
   "source": [
    "for i in range(20):\n",
    "    print(next(prime_gen))"
   ]
  },
  {
   "cell_type": "markdown",
   "id": "503eb913-086a-486b-8a83-c1b897384665",
   "metadata": {},
   "source": [
    "Q6:A python program to print the first fibonacci numbers while using loop"
   ]
  },
  {
   "cell_type": "code",
   "execution_count": 24,
   "id": "46907579-03de-482e-8ecd-dc3165d64a13",
   "metadata": {},
   "outputs": [],
   "source": [
    "def fib ():\n",
    "    a,b=0,1\n",
    "    while True:\n",
    "        yield a\n",
    "        a,b=b,a+b"
   ]
  },
  {
   "cell_type": "code",
   "execution_count": 25,
   "id": "ee0dab75-e2c1-47a1-bc2d-306cb7079fd7",
   "metadata": {},
   "outputs": [],
   "source": [
    "fib1=fib() "
   ]
  },
  {
   "cell_type": "code",
   "execution_count": 26,
   "id": "112232ef-075b-4045-9d26-048d4dcfc22c",
   "metadata": {},
   "outputs": [
    {
     "name": "stdout",
     "output_type": "stream",
     "text": [
      "0\n",
      "1\n",
      "1\n",
      "2\n",
      "3\n",
      "5\n",
      "8\n",
      "13\n",
      "21\n",
      "34\n"
     ]
    }
   ],
   "source": [
    "for i in range (10):\n",
    "    print(next(fib1))"
   ]
  },
  {
   "cell_type": "code",
   "execution_count": null,
   "id": "3f638caf-32fa-4b15-bc6a-72b64eed14a1",
   "metadata": {},
   "outputs": [],
   "source": []
  },
  {
   "cell_type": "markdown",
   "id": "91c50d70-df53-4160-a408-ae5079da3e9c",
   "metadata": {},
   "source": [
    "Q7: A list comprehension to the itrerate though the given string 'pwskills'"
   ]
  },
  {
   "cell_type": "code",
   "execution_count": 5,
   "id": "5059b3df-397b-4c41-abcc-c3943da1e5db",
   "metadata": {},
   "outputs": [],
   "source": [
    "s= 'Pwskills'\n"
   ]
  },
  {
   "cell_type": "code",
   "execution_count": 6,
   "id": "e87da866-d307-4143-97f5-6f7d68cc182d",
   "metadata": {},
   "outputs": [],
   "source": [
    "s2=iter(s)"
   ]
  },
  {
   "cell_type": "code",
   "execution_count": 7,
   "id": "db32deb0-dca1-403f-8fb8-f82e88ca107b",
   "metadata": {},
   "outputs": [],
   "source": [
    "def test4():\n",
    "    print(list(s2))"
   ]
  },
  {
   "cell_type": "code",
   "execution_count": 9,
   "id": "810a4e75-7e6e-49b9-85b7-6876b76894fa",
   "metadata": {},
   "outputs": [
    {
     "name": "stdout",
     "output_type": "stream",
     "text": [
      "['P', 'w', 's', 'k', 'i', 'l', 'l', 's']\n"
     ]
    }
   ],
   "source": [
    "test4()"
   ]
  },
  {
   "cell_type": "code",
   "execution_count": null,
   "id": "a4840e07-c4f3-432d-baf1-742a5f7fe578",
   "metadata": {},
   "outputs": [],
   "source": []
  },
  {
   "cell_type": "markdown",
   "id": "bc13346d-3fc8-4bd7-8c37-1eeac481fd08",
   "metadata": {},
   "source": [
    "Q8:A pyhton program to check whether a given number is palindrome or not using a while loop"
   ]
  },
  {
   "cell_type": "code",
   "execution_count": 10,
   "id": "ffbd3fc1-345b-4b0a-a253-8a09dd3178a2",
   "metadata": {},
   "outputs": [
    {
     "ename": "IndentationError",
     "evalue": "unexpected indent (3381871927.py, line 2)",
     "output_type": "error",
     "traceback": [
      "\u001b[0;36m  Cell \u001b[0;32mIn[10], line 2\u001b[0;36m\u001b[0m\n\u001b[0;31m    orignal n = n\u001b[0m\n\u001b[0m    ^\u001b[0m\n\u001b[0;31mIndentationError\u001b[0m\u001b[0;31m:\u001b[0m unexpected indent\n"
     ]
    }
   ],
   "source": [
    "n=int(input(\"enter a number:\"))\n",
    " orignal n = n\n",
    "reverse_n=0\n",
    "\n",
    "while n>0:\n",
    "    digit=n%10\n",
    "    reverse_n=reverse_n*10+digit\n",
    "    n=n//10\n",
    "    \n",
    "    if orignal_n==reverse_n:\n",
    "    print(f\"The number{orignal_n} is palindrrome.\")\n",
    "              else:\n",
    "              print(f\"The number {orignal_n} is not a palindrome.\")"
   ]
  },
  {
   "cell_type": "code",
   "execution_count": null,
   "id": "d9ed19a7-0b58-4a61-907b-185d9aab336d",
   "metadata": {},
   "outputs": [],
   "source": []
  },
  {
   "cell_type": "code",
   "execution_count": null,
   "id": "d0b61f67-575d-49cf-a242-8bd406d430ea",
   "metadata": {},
   "outputs": [],
   "source": []
  },
  {
   "cell_type": "code",
   "execution_count": null,
   "id": "a0f488f4-c92a-4cce-abf5-d66cebb1585d",
   "metadata": {},
   "outputs": [],
   "source": []
  },
  {
   "cell_type": "markdown",
   "id": "e7957e83-1c09-4c5b-86fc-650c8eb1a8fd",
   "metadata": {},
   "source": [
    "Q9.A code to print the odd numbers from 1 to 100 using list comprehension."
   ]
  },
  {
   "cell_type": "code",
   "execution_count": 18,
   "id": "b64081c9-8913-4139-a7af-e1f39b19a9d7",
   "metadata": {},
   "outputs": [
    {
     "data": {
      "text/plain": [
       "[1,\n",
       " 3,\n",
       " 5,\n",
       " 7,\n",
       " 9,\n",
       " 11,\n",
       " 13,\n",
       " 15,\n",
       " 17,\n",
       " 19,\n",
       " 21,\n",
       " 23,\n",
       " 25,\n",
       " 27,\n",
       " 29,\n",
       " 31,\n",
       " 33,\n",
       " 35,\n",
       " 37,\n",
       " 39,\n",
       " 41,\n",
       " 43,\n",
       " 45,\n",
       " 47,\n",
       " 49,\n",
       " 51,\n",
       " 53,\n",
       " 55,\n",
       " 57,\n",
       " 59,\n",
       " 61,\n",
       " 63,\n",
       " 65,\n",
       " 67,\n",
       " 69,\n",
       " 71,\n",
       " 73,\n",
       " 75,\n",
       " 77,\n",
       " 79,\n",
       " 81,\n",
       " 83,\n",
       " 85,\n",
       " 87,\n",
       " 89,\n",
       " 91,\n",
       " 93,\n",
       " 95,\n",
       " 97,\n",
       " 99]"
      ]
     },
     "execution_count": 18,
     "metadata": {},
     "output_type": "execute_result"
    }
   ],
   "source": [
    "list(filter((lambda a: a%2!=0), range(1,100)))"
   ]
  },
  {
   "cell_type": "code",
   "execution_count": null,
   "id": "d25d9642-bbc6-4b08-bf94-cd7969c9fa2f",
   "metadata": {},
   "outputs": [],
   "source": []
  },
  {
   "cell_type": "code",
   "execution_count": null,
   "id": "1d69efea-41ca-4fc0-9f29-b45dde46f642",
   "metadata": {},
   "outputs": [],
   "source": []
  }
 ],
 "metadata": {
  "kernelspec": {
   "display_name": "Python 3 (ipykernel)",
   "language": "python",
   "name": "python3"
  },
  "language_info": {
   "codemirror_mode": {
    "name": "ipython",
    "version": 3
   },
   "file_extension": ".py",
   "mimetype": "text/x-python",
   "name": "python",
   "nbconvert_exporter": "python",
   "pygments_lexer": "ipython3",
   "version": "3.10.8"
  }
 },
 "nbformat": 4,
 "nbformat_minor": 5
}
